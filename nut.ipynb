{
 "cells": [
  {
   "cell_type": "code",
   "execution_count": 1,
   "metadata": {},
   "outputs": [],
   "source": [
    "import numpy as np\n",
    "import pandas as pd\n",
    "from sklearn.model_selection import train_test_split\n",
    "from sklearn.metrics import classification_report\n",
    "from sklearn.preprocessing import LabelEncoder\n",
    "from sklearn.tree import DecisionTreeClassifier\n",
    "from sklearn.metrics import accuracy_score"
   ]
  },
  {
   "cell_type": "code",
   "execution_count": 38,
   "metadata": {},
   "outputs": [
    {
     "data": {
      "text/html": [
       "<div>\n",
       "<style scoped>\n",
       "    .dataframe tbody tr th:only-of-type {\n",
       "        vertical-align: middle;\n",
       "    }\n",
       "\n",
       "    .dataframe tbody tr th {\n",
       "        vertical-align: top;\n",
       "    }\n",
       "\n",
       "    .dataframe thead th {\n",
       "        text-align: right;\n",
       "    }\n",
       "</style>\n",
       "<table border=\"1\" class=\"dataframe\">\n",
       "  <thead>\n",
       "    <tr style=\"text-align: right;\">\n",
       "      <th></th>\n",
       "      <th>NO</th>\n",
       "      <th>NAME</th>\n",
       "      <th>AGE</th>\n",
       "      <th>NUTRITIONAL STATUS</th>\n",
       "      <th>Unnamed: 4</th>\n",
       "      <th>NUTRITIONAL TIPS</th>\n",
       "      <th>Unnamed: 6</th>\n",
       "      <th>Unnamed: 7</th>\n",
       "      <th>Unnamed: 8</th>\n",
       "      <th>Unnamed: 9</th>\n",
       "      <th>Unnamed: 10</th>\n",
       "      <th>Unnamed: 11</th>\n",
       "    </tr>\n",
       "  </thead>\n",
       "  <tbody>\n",
       "    <tr>\n",
       "      <th>0</th>\n",
       "      <td>1</td>\n",
       "      <td>Adhe Fitri</td>\n",
       "      <td>under 1 month</td>\n",
       "      <td>underweight</td>\n",
       "      <td>NaN</td>\n",
       "      <td>Breastfeed or formula-feed every 2-3 hours to ...</td>\n",
       "      <td>NaN</td>\n",
       "      <td>NaN</td>\n",
       "      <td>NaN</td>\n",
       "      <td>NaN</td>\n",
       "      <td>NaN</td>\n",
       "      <td>NaN</td>\n",
       "    </tr>\n",
       "    <tr>\n",
       "      <th>1</th>\n",
       "      <td>2</td>\n",
       "      <td>Andi Hariati</td>\n",
       "      <td>under 1 month</td>\n",
       "      <td>Normal Weight</td>\n",
       "      <td>NaN</td>\n",
       "      <td>Breastfeed on demand to ensure adequate nutrit...</td>\n",
       "      <td>NaN</td>\n",
       "      <td>NaN</td>\n",
       "      <td>NaN</td>\n",
       "      <td>NaN</td>\n",
       "      <td>NaN</td>\n",
       "      <td>NaN</td>\n",
       "    </tr>\n",
       "    <tr>\n",
       "      <th>2</th>\n",
       "      <td>3</td>\n",
       "      <td>Anwar Amir</td>\n",
       "      <td>1 month</td>\n",
       "      <td>underweight</td>\n",
       "      <td>NaN</td>\n",
       "      <td>Offer nutrient-dense foods like mashed avocado...</td>\n",
       "      <td>NaN</td>\n",
       "      <td>NaN</td>\n",
       "      <td>NaN</td>\n",
       "      <td>NaN</td>\n",
       "      <td>NaN</td>\n",
       "      <td>NaN</td>\n",
       "    </tr>\n",
       "    <tr>\n",
       "      <th>3</th>\n",
       "      <td>4</td>\n",
       "      <td>Asmar</td>\n",
       "      <td>2 month</td>\n",
       "      <td>Normal Weight</td>\n",
       "      <td>NaN</td>\n",
       "      <td>Offer a variety of textures and flavors when i...</td>\n",
       "      <td>NaN</td>\n",
       "      <td>NaN</td>\n",
       "      <td>NaN</td>\n",
       "      <td>NaN</td>\n",
       "      <td>NaN</td>\n",
       "      <td>NaN</td>\n",
       "    </tr>\n",
       "    <tr>\n",
       "      <th>4</th>\n",
       "      <td>5</td>\n",
       "      <td>Eka Andriyani</td>\n",
       "      <td>1 month</td>\n",
       "      <td>underweight</td>\n",
       "      <td>NaN</td>\n",
       "      <td>Offer nutrient-dense foods like mashed avocado...</td>\n",
       "      <td>NaN</td>\n",
       "      <td>NaN</td>\n",
       "      <td>NaN</td>\n",
       "      <td>NaN</td>\n",
       "      <td>NaN</td>\n",
       "      <td>NaN</td>\n",
       "    </tr>\n",
       "  </tbody>\n",
       "</table>\n",
       "</div>"
      ],
      "text/plain": [
       "   NO           NAME            AGE NUTRITIONAL STATUS  Unnamed: 4  \\\n",
       "0   1     Adhe Fitri  under 1 month        underweight         NaN   \n",
       "1   2   Andi Hariati  under 1 month      Normal Weight         NaN   \n",
       "2   3     Anwar Amir        1 month        underweight         NaN   \n",
       "3   4          Asmar        2 month      Normal Weight         NaN   \n",
       "4   5  Eka Andriyani        1 month        underweight         NaN   \n",
       "\n",
       "                                    NUTRITIONAL TIPS  Unnamed: 6  Unnamed: 7  \\\n",
       "0  Breastfeed or formula-feed every 2-3 hours to ...         NaN         NaN   \n",
       "1  Breastfeed on demand to ensure adequate nutrit...         NaN         NaN   \n",
       "2  Offer nutrient-dense foods like mashed avocado...         NaN         NaN   \n",
       "3  Offer a variety of textures and flavors when i...         NaN         NaN   \n",
       "4  Offer nutrient-dense foods like mashed avocado...         NaN         NaN   \n",
       "\n",
       "   Unnamed: 8  Unnamed: 9  Unnamed: 10  Unnamed: 11  \n",
       "0         NaN         NaN          NaN          NaN  \n",
       "1         NaN         NaN          NaN          NaN  \n",
       "2         NaN         NaN          NaN          NaN  \n",
       "3         NaN         NaN          NaN          NaN  \n",
       "4         NaN         NaN          NaN          NaN  "
      ]
     },
     "execution_count": 38,
     "metadata": {},
     "output_type": "execute_result"
    }
   ],
   "source": [
    "df = pd.read_csv('nutrition.csv')\n",
    "df.head()"
   ]
  },
  {
   "cell_type": "code",
   "execution_count": 41,
   "metadata": {},
   "outputs": [],
   "source": [
    "nutrition_data = df"
   ]
  },
  {
   "cell_type": "code",
   "execution_count": 42,
   "metadata": {},
   "outputs": [],
   "source": [
    "# Clean the dataset\n",
    "nutrition_data_cleaned = nutrition_data[['AGE', 'NUTRITIONAL STATUS', 'NUTRITIONAL TIPS']]\n",
    "nutrition_data_cleaned = nutrition_data_cleaned.dropna(subset=['AGE', 'NUTRITIONAL STATUS', 'NUTRITIONAL TIPS'])"
   ]
  },
  {
   "cell_type": "code",
   "execution_count": 43,
   "metadata": {},
   "outputs": [],
   "source": [
    "# Encode the categorical columns\n",
    "label_encoder_age = LabelEncoder()\n",
    "label_encoder_status = LabelEncoder()"
   ]
  },
  {
   "cell_type": "code",
   "execution_count": 44,
   "metadata": {},
   "outputs": [],
   "source": [
    "nutrition_data_cleaned['AGE_ENCODED'] = label_encoder_age.fit_transform(nutrition_data_cleaned['AGE'])\n",
    "nutrition_data_cleaned['STATUS_ENCODED'] = label_encoder_status.fit_transform(nutrition_data_cleaned['NUTRITIONAL STATUS'])\n",
    "\n",
    "# Define features and target\n",
    "X = nutrition_data_cleaned[['AGE_ENCODED', 'STATUS_ENCODED']]\n",
    "y = nutrition_data_cleaned['NUTRITIONAL TIPS']"
   ]
  },
  {
   "cell_type": "code",
   "execution_count": 45,
   "metadata": {},
   "outputs": [],
   "source": [
    "\n",
    "# Split the data into training and testing sets\n",
    "X_train, X_test, y_train, y_test = train_test_split(X, y, test_size=0.2, random_state=42)\n",
    "\n",
    "# Train a Decision Tree Classifier\n",
    "clf = DecisionTreeClassifier()\n",
    "clf.fit(X_train, y_train)\n",
    "\n",
    "# Make predictions and evaluate the model\n",
    "y_pred = clf.predict(X_test)\n",
    "accuracy = accuracy_score(y_test, y_pred)"
   ]
  },
  {
   "cell_type": "code",
   "execution_count": 46,
   "metadata": {},
   "outputs": [
    {
     "data": {
      "text/plain": [
       "0.7567567567567568"
      ]
     },
     "execution_count": 46,
     "metadata": {},
     "output_type": "execute_result"
    }
   ],
   "source": [
    "accuracy"
   ]
  },
  {
   "cell_type": "code",
   "execution_count": 48,
   "metadata": {},
   "outputs": [
    {
     "data": {
      "text/html": [
       "<div>\n",
       "<style scoped>\n",
       "    .dataframe tbody tr th:only-of-type {\n",
       "        vertical-align: middle;\n",
       "    }\n",
       "\n",
       "    .dataframe tbody tr th {\n",
       "        vertical-align: top;\n",
       "    }\n",
       "\n",
       "    .dataframe thead th {\n",
       "        text-align: right;\n",
       "    }\n",
       "</style>\n",
       "<table border=\"1\" class=\"dataframe\">\n",
       "  <thead>\n",
       "    <tr style=\"text-align: right;\">\n",
       "      <th></th>\n",
       "      <th>AGE</th>\n",
       "      <th>NUTRITIONAL STATUS</th>\n",
       "      <th>NUTRITIONAL TIPS</th>\n",
       "    </tr>\n",
       "  </thead>\n",
       "  <tbody>\n",
       "    <tr>\n",
       "      <th>0</th>\n",
       "      <td>1 month</td>\n",
       "      <td>underweight</td>\n",
       "      <td>Offer nutrient-dense foods like mashed avocado...</td>\n",
       "    </tr>\n",
       "    <tr>\n",
       "      <th>1</th>\n",
       "      <td>2 month</td>\n",
       "      <td>Normal Weight</td>\n",
       "      <td>Offer a variety of textures and flavors when i...</td>\n",
       "    </tr>\n",
       "  </tbody>\n",
       "</table>\n",
       "</div>"
      ],
      "text/plain": [
       "       AGE NUTRITIONAL STATUS  \\\n",
       "0  1 month        underweight   \n",
       "1  2 month      Normal Weight   \n",
       "\n",
       "                                    NUTRITIONAL TIPS  \n",
       "0  Offer nutrient-dense foods like mashed avocado...  \n",
       "1  Offer a variety of textures and flavors when i...  "
      ]
     },
     "execution_count": 48,
     "metadata": {},
     "output_type": "execute_result"
    }
   ],
   "source": [
    "new_data = pd.DataFrame({\n",
    "    'AGE' : ['1 month', '2 month'],\n",
    "    'NUTRITIONAL STATUS' : ['underweight', 'Normal Weight']\n",
    "})\n",
    "\n",
    "# encode\n",
    "new_data['AGE_ENCODED'] = label_encoder_age.transform(new_data['AGE'])\n",
    "new_data['STATUS_ENCODED'] = label_encoder_status.transform(new_data['NUTRITIONAL STATUS'])\n",
    "\n",
    "# select features\n",
    "X_new = new_data[['AGE_ENCODED', 'STATUS_ENCODED']]\n",
    "\n",
    "# make predictions\n",
    "predictions = clf.predict(X_new)\n",
    "\n",
    "# display the prediction\n",
    "new_data['NUTRITIONAL TIPS'] = predictions\n",
    "new_data[['AGE', 'NUTRITIONAL STATUS', 'NUTRITIONAL TIPS']]"
   ]
  },
  {
   "cell_type": "code",
   "execution_count": 26,
   "metadata": {},
   "outputs": [],
   "source": [
    "# Function to suggest nutritional tips\n",
    "def suggest_nutritional_tips(age, nutritional_status):\n",
    "    age_encoded = label_encoder_age.transform([age])[0]\n",
    "    status_encoded = label_encoder_status.transform([nutritional_status])[0]\n",
    "    suggestion = clf.predict([[age_encoded, status_encoded]])\n",
    "    return suggestion[0]"
   ]
  },
  {
   "cell_type": "code",
   "execution_count": 61,
   "metadata": {},
   "outputs": [
    {
     "name": "stdout",
     "output_type": "stream",
     "text": [
      "Nutritional tip for 3 month, underweight: Continue to focus on frequent breastfeeding or formula feedings to support weight gain.\n",
      "Introduce nutrient-rich purees like mashed vegetables or fruits to provide additional calories.\n",
      "Offer breast milk or formula before introducing solid foods to ensure adequate nutrition.\n",
      "Monitor baby's weight gain and development milestones closely with the pediatrician.\n",
      "Consider incorporating fortified cereals into the baby's diet for added nutrients.\n"
     ]
    },
    {
     "name": "stderr",
     "output_type": "stream",
     "text": [
      "/home/ebuka/anaconda3/lib/python3.11/site-packages/sklearn/base.py:465: UserWarning: X does not have valid feature names, but DecisionTreeClassifier was fitted with feature names\n",
      "  warnings.warn(\n"
     ]
    }
   ],
   "source": [
    "age_input = '3 month'\n",
    "status_input = 'underweight'\n",
    "print(f'Nutritional tip for {age_input}, {status_input}: {suggest_nutritional_tips(age_input, status_input)}')\n"
   ]
  },
  {
   "cell_type": "code",
   "execution_count": 51,
   "metadata": {},
   "outputs": [],
   "source": [
    "from pickle import dump\n",
    "dump(clf,open('nutritionmodel.sav','wb'))"
   ]
  },
  {
   "cell_type": "code",
   "execution_count": 62,
   "metadata": {},
   "outputs": [],
   "source": [
    "dump(label_encoder_age, open('label_encoder_age.sav', 'wb'))"
   ]
  },
  {
   "cell_type": "code",
   "execution_count": 63,
   "metadata": {},
   "outputs": [],
   "source": [
    "dump(label_encoder_status, open('label_encoder_status.sav', 'wb'))"
   ]
  },
  {
   "cell_type": "code",
   "execution_count": null,
   "metadata": {},
   "outputs": [],
   "source": []
  }
 ],
 "metadata": {
  "kernelspec": {
   "display_name": "base",
   "language": "python",
   "name": "python3"
  },
  "language_info": {
   "codemirror_mode": {
    "name": "ipython",
    "version": 3
   },
   "file_extension": ".py",
   "mimetype": "text/x-python",
   "name": "python",
   "nbconvert_exporter": "python",
   "pygments_lexer": "ipython3",
   "version": "3.11.7"
  }
 },
 "nbformat": 4,
 "nbformat_minor": 2
}
